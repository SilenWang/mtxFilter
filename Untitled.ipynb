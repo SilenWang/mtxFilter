{
 "cells": [
  {
   "cell_type": "code",
   "execution_count": 4,
   "metadata": {},
   "outputs": [],
   "source": [
    "import sqlite3, os, textwrap"
   ]
  },
  {
   "cell_type": "code",
   "execution_count": 3,
   "metadata": {},
   "outputs": [],
   "source": [
    "# 打开sqlite3文件, 如果该文件不存在, 会创建之\n",
    "db_conn = sqlite3.connect('data/test.db')"
   ]
  },
  {
   "cell_type": "code",
   "execution_count": 6,
   "metadata": {},
   "outputs": [],
   "source": [
    "# cursor = db_conn.cursor()    # 从数据库对象创建指针\n",
    "sql_cmd = '''\n",
    "    CREATE TABLE MATRXIT(\n",
    "        ID INT PRIMARY KEY     NOT NULL,\n",
    "        NAME           TEXT    NOT NULL,\n",
    "        AGE            INT     NOT NULL,\n",
    "        ADDRESS        CHAR(50),\n",
    "        SALARY         REAL\n",
    "    );'''\n",
    "sql_cmd = textwrap.dedent(sql_cmd).strip()\n",
    "\n",
    "# cursor.execute(sql_cmd)   # 向数据库传入sql语句, 注意这里的操作不是立刻保存/同步到数据库中\n",
    "# conn.commit()   # 确认更改"
   ]
  },
  {
   "cell_type": "code",
   "execution_count": 8,
   "metadata": {},
   "outputs": [
    {
     "name": "stdout",
     "output_type": "stream",
     "text": [
      "CREATE TABLE COMPANY(\n",
      "    ID INT PRIMARY KEY     NOT NULL,\n",
      "    NAME           TEXT    NOT NULL,\n",
      "    AGE            INT     NOT NULL,\n",
      "    ADDRESS        CHAR(50),\n",
      "    SALARY         REAL\n",
      ");\n"
     ]
    }
   ],
   "source": [
    "print(sql_cmd)"
   ]
  },
  {
   "cell_type": "code",
   "execution_count": null,
   "metadata": {},
   "outputs": [],
   "source": [
    "cursor.close()   # 关闭指针\n",
    "conn.close()   # 关闭连接"
   ]
  }
 ],
 "metadata": {
  "kernelspec": {
   "display_name": "Python 3",
   "language": "python",
   "name": "python3"
  },
  "language_info": {
   "codemirror_mode": {
    "name": "ipython",
    "version": 3
   },
   "file_extension": ".py",
   "mimetype": "text/x-python",
   "name": "python",
   "nbconvert_exporter": "python",
   "pygments_lexer": "ipython3",
   "version": "3.7.0"
  }
 },
 "nbformat": 4,
 "nbformat_minor": 2
}
