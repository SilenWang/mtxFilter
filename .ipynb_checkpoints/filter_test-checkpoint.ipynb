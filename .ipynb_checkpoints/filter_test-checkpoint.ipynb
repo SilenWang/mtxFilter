{
 "cells": [
  {
   "cell_type": "code",
   "execution_count": 4,
   "metadata": {},
   "outputs": [],
   "source": [
    "import sqlite3, os, textwrap"
   ]
  },
  {
   "cell_type": "code",
   "execution_count": 3,
   "metadata": {},
   "outputs": [],
   "source": [
    "# 打开sqlite3文件, 如果该文件不存在, 会创建之\n",
    "db_conn = sqlite3.connect('data/test.db')"
   ]
  },
  {
   "cell_type": "markdown",
   "metadata": {},
   "source": [
    "- 意象中表的格式\n",
    "    + 细胞ID\n",
    "    + 基因ID\n",
    "    + 样品ID(如有必要)\n",
    "    + 表达数据(可以有多种)\n",
    "    + 矩阵位置信息(这个是为了封装成对象后调用考量, 比如我想看前10个基因/细胞的表达量情况)\n",
    "- 存储方式特点\n",
    "    + 不再需要矩阵转置(因为换方式存储)"
   ]
  },
  {
   "cell_type": "code",
   "execution_count": 6,
   "metadata": {},
   "outputs": [],
   "source": [
    "cursor = db_conn.cursor()    # 从数据库对象创建指针\n",
    "# 为了查询速度选了定长\n",
    "sql_cmd = '''\n",
    "    CREATE TABLE MATRIX(\n",
    "        CELL_TAG    CHAR(20),\n",
    "        GENE_TAG    CHAR(20),\n",
    "        CELL_ID    INT,\n",
    "        GENE_ID    INT,\n",
    "        SAMPLE_TAG    CHAR(20),\n",
    "        COUNT    INT,\n",
    "        NORM_COUNT    REAL,\n",
    "        RPM    REAL,\n",
    "        PRIMARY KEY(CELL_ID,  GENE_ID)\n",
    "    );'''\n",
    "sql_cmd = textwrap.dedent(sql_cmd).strip()\n",
    "cursor.execute(sql_cmd)   # 向数据库传入sql语句, 注意这里的操作不是立刻保存/同步到数据库中\n",
    "conn.commit()   # 确认更改"
   ]
  },
  {
   "cell_type": "code",
   "execution_count": 8,
   "metadata": {},
   "outputs": [
    {
     "name": "stdout",
     "output_type": "stream",
     "text": [
      "CREATE TABLE COMPANY(\n",
      "    ID INT PRIMARY KEY     NOT NULL,\n",
      "    NAME           TEXT    NOT NULL,\n",
      "    AGE            INT     NOT NULL,\n",
      "    ADDRESS        CHAR(50),\n",
      "    SALARY         REAL\n",
      ");\n"
     ]
    }
   ],
   "source": [
    "print(sql_cmd)"
   ]
  },
  {
   "cell_type": "code",
   "execution_count": null,
   "metadata": {},
   "outputs": [],
   "source": [
    "cursor.close()   # 关闭指针\n",
    "conn.close()   # 关闭连接"
   ]
  }
 ],
 "metadata": {
  "kernelspec": {
   "display_name": "Python 3",
   "language": "python",
   "name": "python3"
  },
  "language_info": {
   "codemirror_mode": {
    "name": "ipython",
    "version": 3
   },
   "file_extension": ".py",
   "mimetype": "text/x-python",
   "name": "python",
   "nbconvert_exporter": "python",
   "pygments_lexer": "ipython3",
   "version": "3.7.0"
  }
 },
 "nbformat": 4,
 "nbformat_minor": 2
}
